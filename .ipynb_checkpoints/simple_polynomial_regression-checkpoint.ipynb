{
 "cells": [
  {
   "cell_type": "code",
   "execution_count": null,
   "id": "3487cb3e-32e7-40ca-ae45-a89b1b08e78e",
   "metadata": {},
   "outputs": [],
   "source": [
    "import numpy as np\n",
    "import pandas as pd\n",
    "import matplotlib.pyplot as plt\n",
    "import math, copy"
   ]
  },
  {
   "cell_type": "code",
   "execution_count": null,
   "id": "254c67df-638c-4df8-9517-ce8937eb9988",
   "metadata": {},
   "outputs": [],
   "source": [
    "def zscore_normalize_features(X):\n",
    "    mu     = np.mean(X, axis=0)\n",
    "    sigma  = np.std(X, axis=0)\n",
    "    X_norm = (X - mu) / sigma      \n",
    "\n",
    "    return (X_norm, mu, sigma)\n"
   ]
  },
  {
   "cell_type": "code",
   "execution_count": null,
   "id": "9ff549c5-0f08-4337-abea-ecca584546a9",
   "metadata": {},
   "outputs": [],
   "source": [
    "def compute_model_output(x, w, b):\n",
    "    m = x.shape[0]\n",
    "    f_wb = np.zeros(m)\n",
    "    for i in range(m):\n",
    "        f_wb[i] = np.dot(w, x[i]) + b\n",
    "    return f_wb\n"
   ]
  },
  {
   "cell_type": "code",
   "execution_count": null,
   "id": "bbe7c78f-e12b-4223-8dc5-756ef2a67e10",
   "metadata": {},
   "outputs": [],
   "source": [
    "def compute_cost(x, y, w, b): \n",
    "    m = x.shape[0]\n",
    "    cost_sum = 0 \n",
    "    for i in range(m): \n",
    "        f_wb = np.dot(w, x[i]) + b   \n",
    "        cost = (f_wb - y[i]) ** 2  \n",
    "        cost_sum = cost_sum + cost  \n",
    "    total_cost = (1 / (2 * m)) * cost_sum  \n",
    "\n",
    "    return total_cost\n"
   ]
  },
  {
   "cell_type": "code",
   "execution_count": null,
   "id": "160617eb-9a12-44e5-9315-ce94f9b1c7d5",
   "metadata": {},
   "outputs": [],
   "source": [
    "def compute_gradient(x, y, w, b):\n",
    "    m, n = x.shape\n",
    "    dj_dw =np.zeros((n,))\n",
    "    dj_db = 0\n",
    "    \n",
    "    for i in range(m):\n",
    "        f_wb = np.dot(w, x[i]) + b\n",
    "        dj_dw_i = (f_wb - y[i]) * x[i]\n",
    "        dj_db_i = f_wb - y[i]\n",
    "        dj_dw += dj_dw_i\n",
    "        dj_db += dj_db_i\n",
    "    dj_dw = dj_dw / m\n",
    "    dj_db = dj_db / m\n",
    "    \n",
    "    return dj_dw, dj_db\n"
   ]
  },
  {
   "cell_type": "code",
   "execution_count": null,
   "id": "1f6d4050-b912-42f8-a3ad-97f9acc7805d",
   "metadata": {},
   "outputs": [],
   "source": [
    "def gradient_descent(X, y, alpha=1e-2, num_iters=10000, compute_cost=compute_cost, compute_gradient=compute_gradient):\n",
    "    J_history = []\n",
    "    p_history = []\n",
    "    w = X.shape[1]\n",
    "    b = 0.\n",
    "    \n",
    "    for i in range(num_iters):\n",
    "        dj_dw, dj_db = compute_gradient(X, y, w, b)\n",
    "\n",
    "        w = w - alpha * dj_dw\n",
    "        b = b - alpha * dj_db\n",
    "\n",
    "        J_history.append(compute_cost(X, y, w, b))\n",
    "\n",
    "        if i% math.ceil(num_iters / 10) == 0:\n",
    "            print(f\"Iteration: {i:8d} | Cost: {J_history[-1][0]:10.4f} | dw: {dj_dw[0]:10.3f} | db: {dj_db[0]:10.3f} | w: {w[0]:8.3f}, | b: {b[0]:8.3f}\")\n",
    "\n",
    "    print(f\"\\n(w,b) found by gradient descent: ({w}, {b[0]})\")\n",
    "\n",
    "    return w, b, J_history, p_history\n"
   ]
  },
  {
   "cell_type": "code",
   "execution_count": null,
   "id": "9537ccfb-ef76-422a-a1fb-e39fbd306bc3",
   "metadata": {},
   "outputs": [],
   "source": [
    "x = np.arange(0, 20, 1)\n",
    "y = 1 + x**2\n",
    "X = x.reshape(-1, 1)\n"
   ]
  },
  {
   "cell_type": "code",
   "execution_count": null,
   "id": "9a34d658-5f1e-4910-a125-71002fb29061",
   "metadata": {},
   "outputs": [],
   "source": [
    "w_final, b_final, J_history, p_history = gradient_descent(X, y)\n"
   ]
  },
  {
   "cell_type": "code",
   "execution_count": null,
   "id": "40e3b245-1db2-4fcc-839a-e15b6fdad037",
   "metadata": {},
   "outputs": [],
   "source": [
    "w_final, b_final"
   ]
  },
  {
   "cell_type": "code",
   "execution_count": null,
   "id": "ede5a9de-2b83-4861-851b-9344cbebbe42",
   "metadata": {},
   "outputs": [],
   "source": [
    "plt.subplots(figsize=(6,4))\n",
    "plt.scatter(x, y, marker='x', c='r', label=\"Actual Value\")\n",
    "plt.plot(x,X@w_final + b_final, label=\"Predicted Value\")\n",
    "plt.title(\"no feature engineering\")\n",
    "plt.xlabel(\"X\")\n",
    "plt.ylabel(\"y\")\n",
    "plt.legend()\n",
    "plt.show()\n"
   ]
  },
  {
   "cell_type": "code",
   "execution_count": null,
   "id": "aa85078a-19c8-41cc-84fa-5aeff55ecc2e",
   "metadata": {},
   "outputs": [],
   "source": [
    "x = np.arange(0, 20, 1)\n",
    "y = 1 + x**2\n",
    "\n",
    "X = x**2\n",
    "X = X.reshape(-1, 1)\n"
   ]
  },
  {
   "cell_type": "code",
   "execution_count": null,
   "id": "7f77fb9e-49e9-4768-89b2-3ee593f0d1d9",
   "metadata": {},
   "outputs": [],
   "source": [
    "w_final, b_final, J_history, p_history = gradient_descent(X, y, alpha=1e-5)\n"
   ]
  },
  {
   "cell_type": "code",
   "execution_count": null,
   "id": "fb0a9242-353a-4cf6-905f-25a2973a4add",
   "metadata": {},
   "outputs": [],
   "source": [
    "plt.subplots(figsize=(6,4))\n",
    "plt.scatter(x, y, marker='x', c='r', label=\"Actual Value\")\n",
    "plt.plot(x,X@w_final + b_final, label=\"Predicted Value\")\n",
    "plt.title(\"Added x**2 feature\")\n",
    "plt.xlabel(\"x\"); plt.ylabel(\"y\")\n",
    "plt.legend()\n",
    "plt.show()\n"
   ]
  },
  {
   "cell_type": "code",
   "execution_count": null,
   "id": "26435f96-b457-4427-b062-9c787ce8d904",
   "metadata": {
    "pycharm": {
     "name": "#%%\n"
    }
   },
   "outputs": [],
   "source": [
    "# create target data\n",
    "x = np.arange(0, 20, 1)\n",
    "y = x**2\n",
    "\n",
    "# engineer features .\n",
    "X = np.c_[x, x**2, x**3]\n"
   ]
  },
  {
   "cell_type": "code",
   "execution_count": null,
   "id": "f25c9893-12b6-43c2-963a-dca806f6a27a",
   "metadata": {},
   "outputs": [],
   "source": [
    "X, X_mu, X_sigma  = zscore_normalize_features(X)\n"
   ]
  },
  {
   "cell_type": "code",
   "execution_count": null,
   "id": "5864930c-2b81-49c0-be52-c309a2069a6f",
   "metadata": {},
   "outputs": [],
   "source": [
    "w_final, b_final, J_history, p_history = gradient_descent(X, y)\n",
    "w_final = w_final.reshape(-1,1)\n"
   ]
  },
  {
   "cell_type": "code",
   "execution_count": null,
   "id": "46f0d812-282e-4ecb-91a4-067f21905c80",
   "metadata": {},
   "outputs": [],
   "source": [
    "plt.subplots(figsize=(6,4))\n",
    "plt.scatter(x, y, marker='x', c='r', label=\"Actual Value\")\n",
    "plt.plot(x, X@w_final + b_final, label=\"Predicted Value\")\n",
    "plt.title(\"Added x, x**2, x**3 features\")\n",
    "plt.xlabel(\"x\")\n",
    "plt.ylabel(\"y\")\n",
    "plt.legend()\n",
    "plt.show()\n"
   ]
  },
  {
   "cell_type": "code",
   "execution_count": null,
   "id": "ef3fb651-63ce-4032-88fa-353e8ea17da9",
   "metadata": {},
   "outputs": [],
   "source": [
    "x = np.arange(0,20,1)\n",
    "y = np.cos(x/2)\n",
    "\n",
    "X = np.c_[x, x**2, x**3, x**4, x**5, x**6, x**7, x**8, x**9, x**10, x**11, x**12, x**13]\n"
   ]
  },
  {
   "cell_type": "code",
   "execution_count": null,
   "id": "b4b93b37-0e4b-4686-877d-d67d1fb58fda",
   "metadata": {},
   "outputs": [],
   "source": [
    "X, X_mu, X_sigma  = zscore_normalize_features(X)\n"
   ]
  },
  {
   "cell_type": "code",
   "execution_count": null,
   "id": "fbdc7e64-8587-4f58-934b-f10aab32644c",
   "metadata": {},
   "outputs": [],
   "source": [
    "w_final, b_final, J_history, p_history = gradient_descent(X, y, num_iters=1000000, alpha=1e-1)\n",
    "w_final = w_final.reshape(-1,1)\n"
   ]
  },
  {
   "cell_type": "code",
   "execution_count": null,
   "id": "e057cbf7-8ba8-4bb5-93ea-99da116840b0",
   "metadata": {},
   "outputs": [],
   "source": [
    "plt.figure(figsize=(8,4))\n",
    "plt.scatter(x, y, marker='x', c='r', label=\"Actual Value\")\n",
    "plt.plot(x, X@w_final + b_final, label=\"Predicted Value\")\n",
    "plt.title(\"feature engineered\")\n",
    "plt.xlabel(\"X\")\n",
    "plt.ylabel(\"y\")\n",
    "# plt.legend()\n",
    "plt.show()\n"
   ]
  }
 ],
 "metadata": {
  "kernelspec": {
   "display_name": "Python 3 (ipykernel)",
   "language": "python",
   "name": "python3"
  },
  "language_info": {
   "codemirror_mode": {
    "name": "ipython",
    "version": 3
   },
   "file_extension": ".py",
   "mimetype": "text/x-python",
   "name": "python",
   "nbconvert_exporter": "python",
   "pygments_lexer": "ipython3",
   "version": "3.9.15"
  }
 },
 "nbformat": 4,
 "nbformat_minor": 5
}
